{
 "cells": [
  {
   "cell_type": "code",
   "execution_count": 2,
   "metadata": {},
   "outputs": [],
   "source": [
    "import laserhockey.hockey_env as h_env\n",
    "from agents.td3_agent import TD3Agent\n",
    "import torch"
   ]
  },
  {
   "cell_type": "code",
   "execution_count": 3,
   "metadata": {},
   "outputs": [
    {
     "name": "stdout",
     "output_type": "stream",
     "text": [
      "Using device: cpu\n"
     ]
    }
   ],
   "source": [
    "env = h_env.HockeyEnv(verbose=False)\n",
    "input_dim = env.observation_space.shape[0]\n",
    "n_actions = int(env.action_space.shape[0] / 2)\n",
    "device = torch.device('cuda' if torch.cuda.is_available() else 'cpu')\n",
    "print(f'Using device: {device}')"
   ]
  },
  {
   "cell_type": "code",
   "execution_count": 4,
   "metadata": {},
   "outputs": [],
   "source": [
    "agent = TD3Agent(lr_critic=3e-4,\n",
    "            lr_actor=3e-4,\n",
    "            gamma=0.99,\n",
    "            input_dim=input_dim,\n",
    "            tau=0.005,\n",
    "            n_actions=n_actions,\n",
    "            max_buffer_size=50_000,\n",
    "            batch_size=256,\n",
    "            update_actor_interval=2,\n",
    "            explore_n_times=1_000,\n",
    "            noise=0.1,\n",
    "            device=device)"
   ]
  },
  {
   "cell_type": "markdown",
   "metadata": {},
   "source": [
    "## Agent used in the tournament"
   ]
  },
  {
   "cell_type": "code",
   "execution_count": 10,
   "metadata": {},
   "outputs": [
    {
     "name": "stdout",
     "output_type": "stream",
     "text": [
      "Loading agent from models/hockey_tournament_agent/01000000/ ...\n"
     ]
    }
   ],
   "source": [
    "agent.load_agent('models/hockey_tournament_agent/', 1_000_000)"
   ]
  },
  {
   "cell_type": "code",
   "execution_count": 13,
   "metadata": {},
   "outputs": [],
   "source": [
    "observation, _ = env.reset()\n",
    "observation_agent_2 = env.obs_agent_two()\n",
    "opponent = h_env.BasicOpponent(weak=True)  # weak opponent\n",
    "\n",
    "# play 5 games\n",
    "for i in range(5):\n",
    "    done = False\n",
    "    observation, _ = env.reset()\n",
    "    observation_agent_2 = env.obs_agent_two()\n",
    "    opponent = h_env.BasicOpponent(weak=True)  # weak opponent\n",
    "    while not done:\n",
    "        action = agent.remote_act(observation)\n",
    "        action_agent_2 = opponent.act(observation_agent_2)\n",
    "        new_observation, reward, done, _, info = env.step(np.hstack((action, action_agent_2)))\n",
    "        env.render()\n",
    "        observation = new_observation\n",
    "        observation_agent_2 = env.obs_agent_two()"
   ]
  },
  {
   "cell_type": "markdown",
   "metadata": {},
   "source": [
    "## Our best TD3 agent"
   ]
  },
  {
   "cell_type": "code",
   "execution_count": 15,
   "metadata": {},
   "outputs": [
    {
     "name": "stdout",
     "output_type": "stream",
     "text": [
      "Loading agent from models/hockey_best_agent/02000000/ ...\n"
     ]
    }
   ],
   "source": [
    "agent.load_agent('models/hockey_best_agent/', 2_000_000)"
   ]
  },
  {
   "cell_type": "code",
   "execution_count": 17,
   "metadata": {},
   "outputs": [],
   "source": [
    "observation, _ = env.reset()\n",
    "observation_agent_2 = env.obs_agent_two()\n",
    "opponent = h_env.BasicOpponent(weak=True)  # weak opponent\n",
    "\n",
    "# play 5 games\n",
    "for i in range(5):\n",
    "    done = False\n",
    "    observation, _ = env.reset()\n",
    "    observation_agent_2 = env.obs_agent_two()\n",
    "    opponent = h_env.BasicOpponent(weak=True)  # weak opponent\n",
    "    while not done:\n",
    "        action = agent.remote_act(observation)\n",
    "        action_agent_2 = opponent.act(observation_agent_2)\n",
    "        new_observation, reward, done, _, info = env.step(np.hstack((action, action_agent_2)))\n",
    "        env.render()\n",
    "        observation = new_observation\n",
    "        observation_agent_2 = env.obs_agent_two()"
   ]
  },
  {
   "cell_type": "code",
   "execution_count": null,
   "metadata": {},
   "outputs": [],
   "source": []
  }
 ],
 "metadata": {
  "kernelspec": {
   "display_name": "Gym-RL",
   "language": "python",
   "name": "python3"
  },
  "language_info": {
   "codemirror_mode": {
    "name": "ipython",
    "version": 3
   },
   "file_extension": ".py",
   "mimetype": "text/x-python",
   "name": "python",
   "nbconvert_exporter": "python",
   "pygments_lexer": "ipython3",
   "version": "3.9.16"
  },
  "orig_nbformat": 4
 },
 "nbformat": 4,
 "nbformat_minor": 2
}
